{
  "nbformat": 4,
  "nbformat_minor": 0,
  "metadata": {
    "colab": {
      "name": "predicting_bike_sharing_data.ipynb",
      "provenance": [],
      "collapsed_sections": [],
      "toc_visible": true,
      "include_colab_link": true
    },
    "kernelspec": {
      "name": "swift",
      "display_name": "Swift"
    }
  },
  "cells": [
    {
      "cell_type": "markdown",
      "metadata": {
        "id": "view-in-github",
        "colab_type": "text"
      },
      "source": [
        "<a href=\"https://colab.research.google.com/github/TobiasSunderdiek/my_udacity_deep_learning_solutions/blob/master/intro-neural-networks/predicting_bike_sharing_data.ipynb\" target=\"_parent\"><img src=\"https://colab.research.google.com/assets/colab-badge.svg\" alt=\"Open In Colab\"/></a>"
      ]
    },
    {
      "cell_type": "markdown",
      "metadata": {
        "id": "9z0eKFKr8neG",
        "colab_type": "text"
      },
      "source": [
        "# Predicting bike sharing data\n",
        "\n",
        "\n",
        "This notebook is based on the udacity deep learning nanodegree project for predicting bike sharing data, which can be found here:\n",
        "\n",
        "https://github.com/udacity/deep-learning-v2-pytorch/blob/master/project-bikesharing/Predicting_bike_sharing_data.ipynb\n",
        "\n",
        "The original version is implemented with python and numpy, I try to implement it with swift-only as an exercise to learn swift."
      ]
    },
    {
      "cell_type": "markdown",
      "metadata": {
        "id": "jb5V5Sb09V4W",
        "colab_type": "text"
      },
      "source": [
        "## Loading dataset from github\n",
        "The original dataset is located here:\n",
        "\n",
        "https://raw.githubusercontent.com/udacity/deep-learning-v2-pytorch/master/project-bikesharing/Bike-Sharing-Dataset/hour.csv\n",
        "\n",
        "which originaly came from [1].\n",
        "\n",
        "[1] Fanaee-T, Hadi, and Gama, Joao, \"Event labeling combining ensemble detectors and background knowledge\", Progress in Artificial Intelligence (2013): pp. 1-15, Springer Berlin Heidelberg, doi:10.1007/s13748-013-0040-3."
      ]
    },
    {
      "cell_type": "code",
      "metadata": {
        "id": "kZRlD4utdPuX",
        "colab_type": "code",
        "colab": {}
      },
      "source": [
        "import FoundationNetworking\n",
        "\n",
        "let url = \"https://raw.githubusercontent.com/udacity/deep-learning-v2-pytorch/master/project-bikesharing/Bike-Sharing-Dataset/hour.csv\"\n",
        "\n",
        "// author of this query function: https://gist.github.com/groz/85b95f663f79ba17946269ea65c2c0f4\n",
        "func query(address: String) -> String {\n",
        "    let url = URL(string: address)\n",
        "    let semaphore = DispatchSemaphore(value: 0)\n",
        "    \n",
        "    var result: String = \"\"\n",
        "    \n",
        "    let task = URLSession.shared.dataTask(with: url!) {(data, response, error) in\n",
        "        result = String(data: data!, encoding: String.Encoding.utf8)!\n",
        "        semaphore.signal()\n",
        "    }\n",
        "    \n",
        "    task.resume()\n",
        "    semaphore.wait()\n",
        "    return result\n",
        "}\n",
        "\n",
        "let rawData = query(address: url)"
      ],
      "execution_count": 0,
      "outputs": []
    },
    {
      "cell_type": "markdown",
      "metadata": {
        "id": "MBCYDv0gPiHI",
        "colab_type": "text"
      },
      "source": [
        "### Convert data\n",
        "- drop header row\n",
        "- drop fields instant, dteday, atemp and workingday as in the udacity project by not converting them to tensor\n",
        "- additionally drop fields casual and registered by not converting them to tensor, focus on overall output cnt \n",
        "- hot-encode categorical features season, weathersit, mnth, hr, weekday\n",
        "  - got values for depth from output of data in https://github.com/TobiasSunderdiek/predicting-bike-sharing-patterns-with-pytorch/blob/master/predicting_bike_sharing_patterns_with_pytorch.ipynb\n",
        "- shift and scale continuous features cnt, temp, hum, windspeed so they have zero mean and standard deviation of 1"
      ]
    },
    {
      "cell_type": "code",
      "metadata": {
        "id": "QThtcqTjMRyi",
        "colab_type": "code",
        "colab": {
          "base_uri": "https://localhost:8080/",
          "height": 130
        },
        "outputId": "de85a38b-f0dd-46e3-a530-7585b1e8c38c"
      },
      "source": [
        "import TensorFlow\n",
        "\n",
        "let rows = rawData.components(separatedBy: \"\\n\")\n",
        "let featuresAndTargetsAsString = rows.dropFirst().map({ $0.components(separatedBy: \",\") }).filter {$0[0] != \"\"}              \n",
        "var data = [Tensor<Double>]()\n",
        "for featureWithTarget in featuresAndTargetsAsString {\n",
        "\n",
        "  let season = Int32(featureWithTarget[2])!\n",
        "  let yr = Int32(featureWithTarget[3])!\n",
        "  let mnth = Int32(featureWithTarget[4])!\n",
        "  let hr = Int32(featureWithTarget[5])!\n",
        "  let holiday = Int32(featureWithTarget[6])!\n",
        "  let weekday = Int32(featureWithTarget[7])!\n",
        "  let weathersit = Int32(featureWithTarget[9])!\n",
        "  let temp = Double(featureWithTarget[10])!\n",
        "  let hum = Double(featureWithTarget[12])!\n",
        "  let windspeed = Double(featureWithTarget[13])!\n",
        "  let cnt = Int32(featureWithTarget[16])!\n",
        "\n",
        "  let encodedSeason = Tensor<Double>(oneHotAtIndices: Tensor<Int32>(season), depth:4)\n",
        "  let encodedWeathersit = Tensor<Double>(oneHotAtIndices: Tensor<Int32>(weathersit), depth:4)\n",
        "  let encodedMnth = Tensor<Double>(oneHotAtIndices: Tensor<Int32>(mnth), depth:12)\n",
        "  let encodedHr = Tensor<Double>(oneHotAtIndices: Tensor<Int32>(hr), depth:24)\n",
        "  let encodedWeekday = Tensor<Double>(oneHotAtIndices: Tensor<Int32>(weekday), depth:7)\n",
        "  \n",
        "  //TODO/next step: shift and scale features\n",
        "  \n",
        "  data.append(feature)\n",
        "}"
      ],
      "execution_count": 4,
      "outputs": [
        {
          "output_type": "error",
          "ename": "",
          "evalue": "ignored",
          "traceback": [
            "error: <Cell 4>:28:15: error: use of unresolved identifier 'feature'\n  data.append(feature)\n              ^~~~~~~\n\n"
          ]
        }
      ]
    },
    {
      "cell_type": "markdown",
      "metadata": {
        "id": "RXJPnQuRtf8I",
        "colab_type": "text"
      },
      "source": [
        "Compare with python calculation"
      ]
    },
    {
      "cell_type": "code",
      "metadata": {
        "id": "UvERTaqT_o5r",
        "colab_type": "code",
        "colab": {}
      },
      "source": [
        ""
      ],
      "execution_count": 0,
      "outputs": []
    }
  ]
}